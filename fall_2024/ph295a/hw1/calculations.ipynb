{
 "cells": [
  {
   "cell_type": "code",
   "execution_count": 7,
   "metadata": {},
   "outputs": [
    {
     "data": {
      "text/latex": [
       "$\\displaystyle \\int\\limits_{0}^{\\infty} \\frac{1}{e^{\\frac{- \\mu + \\varepsilon}{T k_{B}}} + 1}\\, d\\varepsilon$"
      ],
      "text/plain": [
       "Integral(1/(exp((-mu + varepsilon)/(T*k_B)) + 1), (varepsilon, 0, oo))"
      ]
     },
     "execution_count": 7,
     "metadata": {},
     "output_type": "execute_result"
    }
   ],
   "source": [
    "import sympy as sp\n",
    "\n",
    "# Define variables\n",
    "m, hbar, epsilon_F, mu, k_B, T = sp.symbols('m hbar epsilon_F mu k_B T', real=True)\n",
    "varepsilon = sp.symbols('varepsilon')\n",
    "\n",
    "# Define the integrand\n",
    "integrand = 1 / (1 + sp.exp((varepsilon - mu) / (k_B * T)))\n",
    "\n",
    "# Perform the integral with limits from 0 to infinity\n",
    "n = sp.integrate(integrand, (varepsilon, 0, sp.oo))\n",
    "\n",
    "# Simplify the result\n",
    "n_simplified = n.simplify()\n",
    "\n",
    "n_simplified\n"
   ]
  }
 ],
 "metadata": {
  "kernelspec": {
   "display_name": "Python 3",
   "language": "python",
   "name": "python3"
  },
  "language_info": {
   "codemirror_mode": {
    "name": "ipython",
    "version": 3
   },
   "file_extension": ".py",
   "mimetype": "text/x-python",
   "name": "python",
   "nbconvert_exporter": "python",
   "pygments_lexer": "ipython3",
   "version": "3.9.13"
  }
 },
 "nbformat": 4,
 "nbformat_minor": 2
}
