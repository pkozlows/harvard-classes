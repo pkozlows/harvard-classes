{
 "cells": [
  {
   "cell_type": "code",
   "execution_count": 7,
   "metadata": {},
   "outputs": [
    {
     "data": {
      "text/latex": [
       "$\\displaystyle \\int\\limits_{0}^{\\infty} \\frac{1}{e^{\\frac{- \\mu + \\varepsilon}{T k_{B}}} + 1}\\, d\\varepsilon$"
      ],
      "text/plain": [
       "Integral(1/(exp((-mu + varepsilon)/(T*k_B)) + 1), (varepsilon, 0, oo))"
      ]
     },
     "execution_count": 7,
     "metadata": {},
     "output_type": "execute_result"
    }
   ],
   "source": [
    "import sympy as sp\n",
    "\n",
    "# Define variables\n",
    "m, hbar, epsilon_F, mu, k_B, T = sp.symbols('m hbar epsilon_F mu k_B T', real=True)\n",
    "varepsilon = sp.symbols('varepsilon')\n",
    "\n",
    "# Define the integrand\n",
    "integrand = 1 / (1 + sp.exp((varepsilon - mu) / (k_B * T)))\n",
    "\n",
    "# Perform the integral with limits from 0 to infinity\n",
    "n = sp.integrate(integrand, (varepsilon, 0, sp.oo))\n",
    "\n",
    "# Simplify the result\n",
    "n_simplified = n.simplify()\n",
    "\n",
    "n_simplified\n"
   ]
  },
  {
   "cell_type": "code",
   "execution_count": 2,
   "metadata": {},
   "outputs": [
    {
     "data": {
      "text/latex": [
       "$\\displaystyle \\frac{1.55498808066966 \\hbar e^{- \\frac{0.333333333333333 \\mu}{T k_{B}}}}{\\sqrt{T} \\sqrt{k_{B}} \\sqrt{m}}$"
      ],
      "text/plain": [
       "1.55498808066966*hbar*exp(-0.333333333333333*mu/(T*k_B))/(sqrt(T)*sqrt(k_B)*sqrt(m))"
      ]
     },
     "execution_count": 2,
     "metadata": {},
     "output_type": "execute_result"
    }
   ],
   "source": [
    "import sympy as sp\n",
    "\n",
    "# Define symbols\n",
    "r_s, mu, k_B, T, m, hbar = sp.symbols('r_s mu k_B T m hbar', real=True, positive=True)\n",
    "pi = sp.pi\n",
    "e = sp.exp(1)\n",
    "\n",
    "# Define lambda (thermal de Broglie wavelength)\n",
    "lambda_expr = sp.sqrt((2 * pi * hbar**2) / (m * k_B * T))\n",
    "\n",
    "# Equation 1: Particle density in terms of r_s\n",
    "lhs = 1 / ((4 / 3) * pi * r_s**3)\n",
    "# Equation 2: Particle density in terms of mu and lambda\n",
    "rhs = sp.exp(mu / (k_B * T)) / lambda_expr**3\n",
    "\n",
    "# Set up the equation\n",
    "equation = sp.Eq(lhs, rhs)\n",
    "\n",
    "# Solve for r_s\n",
    "solution = sp.solve(equation, r_s)\n",
    "\n",
    "solution[0]\n"
   ]
  },
  {
   "cell_type": "code",
   "execution_count": 1,
   "metadata": {},
   "outputs": [
    {
     "name": "stdout",
     "output_type": "stream",
     "text": [
      "The final expression for C is:\n",
      "         3/2      \n",
      "   3⋅√2⋅m   ⋅n    \n",
      "──────────────────\n",
      "      3/2    3/2  \n",
      "16⋅T_F   ⋅k_B   ⋅π\n"
     ]
    }
   ],
   "source": [
    "import sympy as sp\n",
    "\n",
    "# Define symbols\n",
    "m, n, k_B, T_F, pi = sp.symbols('m n k_B T_F pi', real=True, positive=True)\n",
    "hbar = sp.symbols('hbar', real=True, positive=True)\n",
    "\n",
    "# Initial normalization constant\n",
    "C_initial = m**3 / (4 * pi**3 * hbar**3)\n",
    "\n",
    "# Expression for hbar^3\n",
    "hbar_cubed = (2 * m * k_B * T_F)**(sp.Rational(3, 2)) * (1 / (3 * pi**2 * n))\n",
    "\n",
    "# Substitute hbar^3 into C_initial\n",
    "C_substituted = C_initial.subs(hbar**3, hbar_cubed)\n",
    "\n",
    "# Simplify numerator and denominator separately\n",
    "numerator = m**3 * (3 * pi**2 * n)\n",
    "denominator = 4 * pi**3 * (2 * m * k_B * T_F)**(sp.Rational(3, 2))\n",
    "\n",
    "# Form the expression for C\n",
    "C_expr = numerator / denominator\n",
    "\n",
    "# Simplify the expression\n",
    "C_final = sp.simplify(C_expr)\n",
    "\n",
    "# Display the final expression\n",
    "print('The final expression for C is:')\n",
    "sp.pprint(C_final)\n"
   ]
  }
 ],
 "metadata": {
  "kernelspec": {
   "display_name": "Python 3",
   "language": "python",
   "name": "python3"
  },
  "language_info": {
   "codemirror_mode": {
    "name": "ipython",
    "version": 3
   },
   "file_extension": ".py",
   "mimetype": "text/x-python",
   "name": "python",
   "nbconvert_exporter": "python",
   "pygments_lexer": "ipython3",
   "version": "3.11.3"
  }
 },
 "nbformat": 4,
 "nbformat_minor": 2
}
