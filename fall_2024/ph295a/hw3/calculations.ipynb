{
 "cells": [
  {
   "cell_type": "code",
   "execution_count": 6,
   "metadata": {},
   "outputs": [
    {
     "name": "stdout",
     "output_type": "stream",
     "text": [
      "\\frac{\\epsilon_{p}}{2} + \\frac{\\epsilon_{s}}{2} - \\frac{\\sqrt{16 J_{x}^{2} \\sin^{2}{\\left(\\frac{a k}{2} \\right)} + \\epsilon_{p}^{2} - 2 \\epsilon_{p} \\epsilon_{s} + \\epsilon_{s}^{2}}}{2}\n",
      "\\frac{\\epsilon_{p}}{2} + \\frac{\\epsilon_{s}}{2} + \\frac{\\sqrt{16 J_{x}^{2} \\sin^{2}{\\left(\\frac{a k}{2} \\right)} + \\epsilon_{p}^{2} - 2 \\epsilon_{p} \\epsilon_{s} + \\epsilon_{s}^{2}}}{2}\n"
     ]
    }
   ],
   "source": [
    "import sympy as sp\n",
    "\n",
    "# Define symbols\n",
    "E, Jx, k, a, eps_s, eps_p = sp.symbols('E J_x k a epsilon_s epsilon_p')\n",
    "\n",
    "# Construct the matrix\n",
    "M = sp.Matrix([[eps_s - E, -2 * sp.I * Jx * sp.sin(k * a / 2)],\n",
    "               [2 * sp.I * Jx * sp.sin(k * a / 2), eps_p - E]])\n",
    "\n",
    "# Compute the determinant\n",
    "det = M.det()\n",
    "\n",
    "# Solve for E\n",
    "roots = sp.solve(det, E)\n",
    "\n",
    "# Simplify and print each root in LaTeX\n",
    "for root in roots:\n",
    "    simplified_root = sp.simplify(root)\n",
    "    print(sp.latex(simplified_root))\n"
   ]
  },
  {
   "cell_type": "code",
   "execution_count": null,
   "metadata": {},
   "outputs": [
    {
     "ename": "AttributeError",
     "evalue": "'list' object has no attribute 'replace'",
     "output_type": "error",
     "traceback": [
      "\u001b[0;31m---------------------------------------------------------------------------\u001b[0m\n",
      "\u001b[0;31mAttributeError\u001b[0m                            Traceback (most recent call last)\n",
      "Cell \u001b[0;32mIn[5], line 7\u001b[0m\n",
      "\u001b[1;32m      5\u001b[0m det \u001b[38;5;241m=\u001b[39m M\u001b[38;5;241m.\u001b[39mdet()\n",
      "\u001b[1;32m      6\u001b[0m roots \u001b[38;5;241m=\u001b[39m sp\u001b[38;5;241m.\u001b[39msolve(det, E)\n",
      "\u001b[0;32m----> 7\u001b[0m \u001b[38;5;28mprint\u001b[39m(sp\u001b[38;5;241m.\u001b[39mlatex(sp\u001b[38;5;241m.\u001b[39msimplify(roots)))\n",
      "\n",
      "File \u001b[0;32m~/anaconda3/lib/python3.11/site-packages/sympy/simplify/simplify.py:603\u001b[0m, in \u001b[0;36msimplify\u001b[0;34m(expr, ratio, measure, rational, inverse, doit, **kwargs)\u001b[0m\n",
      "\u001b[1;32m    600\u001b[0m \u001b[38;5;28;01mif\u001b[39;00m _eval_simplify \u001b[38;5;129;01mis\u001b[39;00m \u001b[38;5;129;01mnot\u001b[39;00m \u001b[38;5;28;01mNone\u001b[39;00m:\n",
      "\u001b[1;32m    601\u001b[0m     \u001b[38;5;28;01mreturn\u001b[39;00m _eval_simplify(\u001b[38;5;241m*\u001b[39m\u001b[38;5;241m*\u001b[39mkwargs)\n",
      "\u001b[0;32m--> 603\u001b[0m original_expr \u001b[38;5;241m=\u001b[39m expr \u001b[38;5;241m=\u001b[39m collect_abs(signsimp(expr))\n",
      "\u001b[1;32m    605\u001b[0m \u001b[38;5;28;01mif\u001b[39;00m \u001b[38;5;129;01mnot\u001b[39;00m \u001b[38;5;28misinstance\u001b[39m(expr, Basic) \u001b[38;5;129;01mor\u001b[39;00m \u001b[38;5;129;01mnot\u001b[39;00m expr\u001b[38;5;241m.\u001b[39margs:  \u001b[38;5;66;03m# XXX: temporary hack\u001b[39;00m\n",
      "\u001b[1;32m    606\u001b[0m     \u001b[38;5;28;01mreturn\u001b[39;00m expr\n",
      "\n",
      "File \u001b[0;32m~/anaconda3/lib/python3.11/site-packages/sympy/simplify/radsimp.py:635\u001b[0m, in \u001b[0;36mcollect_abs\u001b[0;34m(expr)\u001b[0m\n",
      "\u001b[1;32m    632\u001b[0m   args\u001b[38;5;241m.\u001b[39mextend(nc)  \u001b[38;5;66;03m# nc always go last\u001b[39;00m\n",
      "\u001b[1;32m    633\u001b[0m   \u001b[38;5;28;01mreturn\u001b[39;00m Mul\u001b[38;5;241m.\u001b[39m_from_args(args, is_commutative\u001b[38;5;241m=\u001b[39m\u001b[38;5;129;01mnot\u001b[39;00m nc)\n",
      "\u001b[0;32m--> 635\u001b[0m \u001b[38;5;28;01mreturn\u001b[39;00m expr\u001b[38;5;241m.\u001b[39mreplace(\n",
      "\u001b[1;32m    636\u001b[0m     \u001b[38;5;28;01mlambda\u001b[39;00m x: \u001b[38;5;28misinstance\u001b[39m(x, Mul),\n",
      "\u001b[1;32m    637\u001b[0m     \u001b[38;5;28;01mlambda\u001b[39;00m x: _abs(x))\u001b[38;5;241m.\u001b[39mreplace(\n",
      "\u001b[1;32m    638\u001b[0m         \u001b[38;5;28;01mlambda\u001b[39;00m x: \u001b[38;5;28misinstance\u001b[39m(x, Pow),\n",
      "\u001b[1;32m    639\u001b[0m         \u001b[38;5;28;01mlambda\u001b[39;00m x: _abs(x))\n",
      "\n",
      "\u001b[0;31mAttributeError\u001b[0m: 'list' object has no attribute 'replace'"
     ]
    }
   ],
   "source": []
  }
 ],
 "metadata": {
  "kernelspec": {
   "display_name": "base",
   "language": "python",
   "name": "python3"
  },
  "language_info": {
   "codemirror_mode": {
    "name": "ipython",
    "version": 3
   },
   "file_extension": ".py",
   "mimetype": "text/x-python",
   "name": "python",
   "nbconvert_exporter": "python",
   "pygments_lexer": "ipython3",
   "version": "3.11.3"
  }
 },
 "nbformat": 4,
 "nbformat_minor": 2
}
