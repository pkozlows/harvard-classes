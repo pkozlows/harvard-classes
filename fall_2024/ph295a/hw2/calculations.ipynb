{
 "cells": [
  {
   "cell_type": "code",
   "execution_count": 6,
   "metadata": {},
   "outputs": [
    {
     "name": "stdout",
     "output_type": "stream",
     "text": [
      "                                                                              \n",
      "                                                                              \n",
      "        ⎛ 2  ⅈ⋅a⋅(2⋅G + k)    2  ⅈ⋅a⋅(2⋅G + k)      ⅈ⋅G⋅a      ⅈ⋅a⋅(G + 2⋅k)  \n",
      "2⋅ⅈ⋅B⋅G⋅⎝r ⋅ℯ              - t ⋅ℯ              + t⋅ℯ      + t⋅ℯ              -\n",
      "──────────────────────────────────────────────────────────────────────────────\n",
      "                                 ⅈ⋅G⋅a + ⅈ⋅a⋅k      ⅈ⋅G⋅a    ⅈ⋅a⋅k            \n",
      "                              r⋅ℯ              - t⋅ℯ      + ℯ                 \n",
      "\n",
      "          -ⅈ⋅G⋅a \n",
      "          ───────\n",
      "  ⅈ⋅a⋅k⎞     2   \n",
      " ℯ     ⎠⋅ℯ       \n",
      "─────────────────\n",
      "                 \n",
      "                 \n"
     ]
    }
   ],
   "source": [
    "import sympy as sp\n",
    "\n",
    "# Define symbols\n",
    "A, B = sp.symbols('A B')\n",
    "a, G, k = sp.symbols('a G k', real=True)\n",
    "r, t = sp.symbols('r t', real=True)\n",
    "\n",
    "# Exponential terms\n",
    "exp_iGa2 = sp.exp(sp.I * G * a / 2)\n",
    "exp_neg_iGa2 = sp.exp(-sp.I * G * a / 2)\n",
    "exp_ika = sp.exp(sp.I * k * a)\n",
    "\n",
    "# Equation 1: Wavefunction Continuity: A\\left(t e^{iG\\frac{a}{2}}\\right) + B\\left(re^{iG\\frac{a}{2}} + e^{-iG\\frac{a}{2}}\\right) = e^{ika}\\left(A\\left(re^{iG\\frac{a}{2}} + e^{-iG\\frac{a}{2}}\\right) + B\\left(te^{iG\\frac{a}{2}}\\right)\\right)\n",
    "eq1 = A * t * exp_iGa2 + B * (r * exp_iGa2 + exp_neg_iGa2) - exp_ika * (A * (r * exp_iGa2 + exp_neg_iGa2) + B * t * exp_iGa2)\n",
    "\n",
    "# solve for A in terms of B\n",
    "A_sol = sp.solve(eq1, A)[0]\n",
    "\n",
    "# Equation 2: Derivative Continuity: A\\left(iGte^{iG\\frac{a}{2}}\\right) + B\\left(iG\\left(re^{iG\\frac{a}{2}} - e^{-iG\\frac{a}{2}}\\right)\\right) = e^{ika}\\left(A\\left(iG\\left(-re^{iG\\frac{a}{2}} + e^{-iG\\frac{a}{2}}\\right)\\right) + B\\left(-iGte^{iG\\frac{a}{2}}\\right)\\right)\n",
    "eq2 = A * sp.I * G * t * exp_iGa2 + B * sp.I * G * (r * exp_iGa2 - exp_neg_iGa2) - exp_ika * (A * sp.I * G * (-r * exp_iGa2 + exp_neg_iGa2) + B * -sp.I * G * t * exp_iGa2)\n",
    "\n",
    "# plug in the solution for A\n",
    "eq2 = eq2.subs(A, A_sol)\n",
    "\n",
    "# simplify\n",
    "eq2 = sp.simplify(eq2)\n",
    "sp.pprint(eq2)"
   ]
  },
  {
   "cell_type": "code",
   "execution_count": 4,
   "metadata": {},
   "outputs": [
    {
     "ename": "SyntaxError",
     "evalue": "cannot assign to expression (2135459599.py, line 9)",
     "output_type": "error",
     "traceback": [
      "\u001b[0;36m  Cell \u001b[0;32mIn[4], line 9\u001b[0;36m\u001b[0m\n\u001b[0;31m    eq = (t * sp.exp(sp.I * G * a / 2) - r * sp.exp(sp.I * a * (k + G / 2)) - sp.exp(sp.I * a * (k - G / 2))) * (r * sp.exp(sp.I * G * a / 2) - sp.exp(-sp.I * G * a / 2) + t * sp.exp(sp.I * a * (k + G / 2)) ) - (r * sp.exp(sp.I * G * a / 2) + sp.exp(-sp.I * G * a / 2) - t * sp.exp(sp.I * a * (k + G / 2))) * (t * sp.exp(sp.I * G * a / 2) + r * sp.exp(sp.I * a * (k + G / 2)) - sp.exp(sp.I * a * (k - G / 2))) = 0\u001b[0m\n\u001b[0m         ^\u001b[0m\n\u001b[0;31mSyntaxError\u001b[0m\u001b[0;31m:\u001b[0m cannot assign to expression\n"
     ]
    }
   ],
   "source": [
    "import sympy as sp\n",
    "\n",
    "# Define symbols\n",
    "A, B = sp.symbols('A B')\n",
    "a, G, k = sp.symbols('a G k', real=True)\n",
    "r, t = sp.symbols('r t', real=True)\n",
    "\n",
    "# I want you to simplify this aldabraic expression:\\left(t e^{iG\\frac{a}{2}} - re^{ia\\left(k+\\frac{G}{2} \\right)} - e^{ia\\left(k-\\frac{G}{2} \\right)}\\right) \\left(re^{iG\\frac{a}{2}} - e^{-iG\\frac{a}{2}} + te^{ia\\left(k+\\frac{G}{2} \\right)}\\right)\\\\ - \\left(re^{iG\\frac{a}{2}} + e^{-iG\\frac{a}{2}} - te^{ia\\left(k+\\frac{G}{2} \\right)}\\right) \\left(t e^{iG\\frac{a}{2}} + re^{ia\\left(k+\\frac{G}{2} \\right)} - e^{ia\\left(k-\\frac{G}{2} \\right)}\\right) = 0\n",
    "eq = (t * sp.exp(sp.I * G * a / 2) - r * sp.exp(sp.I * a * (k + G / 2)) - sp.exp(sp.I * a * (k - G / 2))) * (r * sp.exp(sp.I * G * a / 2) - sp.exp(-sp.I * G * a / 2) + t * sp.exp(sp.I * a * (k + G / 2)) ) - (r * sp.exp(sp.I * G * a / 2) + sp.exp(-sp.I * G * a / 2) - t * sp.exp(sp.I * a * (k + G / 2))) * (t * sp.exp(sp.I * G * a / 2) + r * sp.exp(sp.I * a * (k + G / 2)) - sp.exp(sp.I * a * (k - G / 2)))\n",
    "eq = sp.simplify(eq)\n",
    "print(sp.latex(eq))\n"
   ]
  },
  {
   "cell_type": "code",
   "execution_count": null,
   "metadata": {},
   "outputs": [],
   "source": []
  }
 ],
 "metadata": {
  "kernelspec": {
   "display_name": "base",
   "language": "python",
   "name": "python3"
  },
  "language_info": {
   "codemirror_mode": {
    "name": "ipython",
    "version": 3
   },
   "file_extension": ".py",
   "mimetype": "text/x-python",
   "name": "python",
   "nbconvert_exporter": "python",
   "pygments_lexer": "ipython3",
   "version": "3.11.3"
  }
 },
 "nbformat": 4,
 "nbformat_minor": 2
}
